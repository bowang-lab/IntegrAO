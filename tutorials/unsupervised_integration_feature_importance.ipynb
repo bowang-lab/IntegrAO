{
 "cells": [
  {
   "cell_type": "markdown",
   "metadata": {},
   "source": [
    "## Integrate simulated Cancer Omics dataset; load the saved model and perform feature importance extraction"
   ]
  },
  {
   "cell_type": "code",
   "execution_count": 1,
   "metadata": {},
   "outputs": [
    {
     "name": "stderr",
     "output_type": "stream",
     "text": [
      "/home/jma/anaconda3/envs/integrAO/lib/python3.10/site-packages/tqdm/auto.py:21: TqdmWarning: IProgress not found. Please update jupyter and ipywidgets. See https://ipywidgets.readthedocs.io/en/stable/user_install.html\n",
      "  from .autonotebook import tqdm as notebook_tqdm\n"
     ]
    }
   ],
   "source": [
    "# Import packages and IntegrAO code\n",
    "import numpy as np\n",
    "import pandas as pd\n",
    "import snf\n",
    "from sklearn.cluster import spectral_clustering\n",
    "from sklearn.metrics import v_measure_score\n",
    "import matplotlib.pyplot as plt\n",
    "\n",
    "import sys\n",
    "import os\n",
    "import argparse\n",
    "import torch\n",
    "\n",
    "import umap\n",
    "from sklearn.model_selection import train_test_split\n",
    "\n",
    "# Add the parent directory of \"integrao\" to the Python path\n",
    "module_path = os.path.abspath(os.path.join('../'))\n",
    "if module_path not in sys.path:\n",
    "    sys.path.append(module_path)\n",
    "    \n",
    "from integrao.dataset import GraphDataset\n",
    "from integrao.main import dist2\n",
    "from integrao.integrater import integrao_integrater, integrao_predictor"
   ]
  },
  {
   "cell_type": "code",
   "execution_count": null,
   "metadata": {},
   "outputs": [],
   "source": [
    "# Set Hyperparameters\n",
    "neighbor_size = 20\n",
    "embedding_dims = 64\n",
    "fusing_iteration = 30\n",
    "normalization_factor = 1.0\n",
    "alighment_epochs = 1000\n",
    "beta = 1.0\n",
    "mu = 0.5\n",
    "\n",
    "\n",
    "dataset_name = 'unsupervised_integration_feature_importance'\n",
    "cluster_number = 15"
   ]
  },
  {
   "cell_type": "code",
   "execution_count": 3,
   "metadata": {},
   "outputs": [],
   "source": [
    "# create result dir\n",
    "result_dir = os.path.join(\n",
    "    module_path, \"results/{}\".format(dataset_name)\n",
    ")\n",
    "if not os.path.exists(result_dir):\n",
    "    os.makedirs(result_dir)"
   ]
  },
  {
   "cell_type": "markdown",
   "metadata": {},
   "source": [
    "## Read data"
   ]
  },
  {
   "cell_type": "code",
   "execution_count": 4,
   "metadata": {},
   "outputs": [
    {
     "name": "stdout",
     "output_type": "stream",
     "text": [
      "(500, 367)\n",
      "(500, 131)\n",
      "(500, 160)\n",
      "(500, 2)\n",
      "finish loading data!\n"
     ]
    }
   ],
   "source": [
    "testdata_dir = os.path.join(module_path, \"data/omics/\")\n",
    "\n",
    "methyl_ = os.path.join(testdata_dir, \"omics1.txt\")\n",
    "expr_ = os.path.join(testdata_dir, \"omics2.txt\")\n",
    "protein_ = os.path.join(testdata_dir, \"omics3.txt\")\n",
    "truelabel = os.path.join(testdata_dir, \"clusters.txt\")\n",
    "\n",
    "\n",
    "methyl = pd.read_csv(methyl_, index_col=0, delimiter=\"\\t\")\n",
    "expr = pd.read_csv(expr_, index_col=0, delimiter=\"\\t\")\n",
    "protein = pd.read_csv(protein_, index_col=0, delimiter=\"\\t\")\n",
    "truelabel = pd.read_csv(truelabel, index_col=0, delimiter=\"\\t\")\n",
    "\n",
    "methyl = np.transpose(methyl)\n",
    "expr = np.transpose(expr)\n",
    "protein = np.transpose(protein)\n",
    "print(methyl.shape)\n",
    "print(expr.shape)\n",
    "print(protein.shape)\n",
    "print(truelabel.shape)\n",
    "print(\"finish loading data!\")"
   ]
  },
  {
   "cell_type": "markdown",
   "metadata": {},
   "source": [
    "## Random sub-sample the omics dataset to create an incomplete dataset"
   ]
  },
  {
   "cell_type": "code",
   "execution_count": 5,
   "metadata": {},
   "outputs": [],
   "source": [
    "ratio = 0.7\n",
    "\n",
    "full_indices = range(len(methyl))\n",
    "unique_indices, common_indices = train_test_split(full_indices, test_size=ratio)\n",
    "\n",
    "w1w2_indices, w3_indices = train_test_split(unique_indices, test_size=0.33)\n",
    "w1_indices, w2_indices = train_test_split(w1w2_indices, test_size=0.5)\n",
    "\n",
    "w1_full_indices = common_indices + w1_indices\n",
    "w2_full_indices = common_indices + w2_indices\n",
    "w3_full_indices = common_indices + w3_indices\n",
    "\n",
    "methyl_temp = methyl.iloc[w1_full_indices]\n",
    "expr_temp = expr.iloc[w2_full_indices]\n",
    "protein_temp = protein.iloc[w3_full_indices]\n"
   ]
  },
  {
   "cell_type": "markdown",
   "metadata": {},
   "source": [
    "## IntegrAO integration"
   ]
  },
  {
   "cell_type": "code",
   "execution_count": 6,
   "metadata": {},
   "outputs": [
    {
     "name": "stdout",
     "output_type": "stream",
     "text": [
      "Start indexing input expression matrices!\n",
      "Common sample between view0 and view1: 350\n",
      "Common sample between view0 and view2: 350\n",
      "Common sample between view1 and view2: 350\n",
      "Neighbor size: 20\n",
      "Start applying diffusion!\n",
      "Diffusion ends! Times: 4.647532224655151s\n",
      "Starting unsupervised exmbedding extraction!\n",
      "Dataset 0: (400, 367)\n",
      "Dataset 1: (400, 131)\n",
      "Dataset 2: (400, 160)\n",
      "epoch 0: loss 30.287778854370117, align_loss:0.747223\n",
      "epoch 100: loss 20.88467025756836, align_loss:0.178473\n",
      "epoch 200: loss 1.1458323001861572, align_loss:0.092696\n",
      "epoch 300: loss 1.144501805305481, align_loss:0.091768\n",
      "epoch 400: loss 1.1429835557937622, align_loss:0.090755\n",
      "epoch 500: loss 1.1412932872772217, align_loss:0.089755\n",
      "epoch 600: loss 1.1394864320755005, align_loss:0.088606\n",
      "epoch 700: loss 1.1375226974487305, align_loss:0.087426\n",
      "epoch 800: loss 1.135468602180481, align_loss:0.086274\n",
      "epoch 900: loss 1.1333705186843872, align_loss:0.085182\n",
      "Manifold alignment ends! Times: 7.6544740200042725s\n",
      "IntegrAO for clustering union 500 samples NMI score:  0.9794302488169736\n"
     ]
    }
   ],
   "source": [
    "# Initialize integrater\n",
    "integrater = integrao_integrater(\n",
    "    [methyl_temp, expr_temp, protein_temp],\n",
    "    dataset_name,\n",
    "    neighbor_size=neighbor_size,\n",
    "    embedding_dims=embedding_dims,\n",
    "    fusing_iteration=fusing_iteration,\n",
    "    normalization_factor=normalization_factor,\n",
    "    alighment_epochs=alighment_epochs,\n",
    "    beta=beta,\n",
    "    mu=mu,\n",
    ")\n",
    "# data indexing\n",
    "fused_networks = integrater.network_diffusion()\n",
    "embeds_final, S_final, model = integrater.unsupervised_alignment()\n",
    "\n",
    "labels = spectral_clustering(S_final, n_clusters=cluster_number)\n",
    "\n",
    "true_labels = truelabel.sort_values('subjects')['cluster.id'].tolist()\n",
    "\n",
    "score_all = v_measure_score(true_labels, labels)\n",
    "print(\"IntegrAO for clustering union 500 samples NMI score: \", score_all)"
   ]
  },
  {
   "cell_type": "code",
   "execution_count": 7,
   "metadata": {},
   "outputs": [],
   "source": [
    "# save model\n",
    "torch.save(model.state_dict(), os.path.join(result_dir, \"model_integrao_unsupervised.pth\"))"
   ]
  },
  {
   "cell_type": "markdown",
   "metadata": {},
   "source": [
    "## Now load the saved model and perform embedding extraction using the trained model"
   ]
  },
  {
   "cell_type": "code",
   "execution_count": 8,
   "metadata": {},
   "outputs": [
    {
     "name": "stdout",
     "output_type": "stream",
     "text": [
      "Start indexing input expression matrices!\n",
      "Common sample between view0 and view1: 500\n",
      "Common sample between view0 and view2: 500\n",
      "Common sample between view1 and view2: 500\n",
      "Neighbor size: 20\n",
      "Start applying diffusion!\n",
      "Diffusion ends! Times: 5.997241497039795s\n"
     ]
    }
   ],
   "source": [
    "# Network fusion for the whole graph; make sure use the integrao_predictor with the same hyperparameters\n",
    "predictor = integrao_predictor(\n",
    "    [methyl, expr, protein],\n",
    "    dataset_name,\n",
    "    modalities_name_list=[\"methyl\", \"expr\", \"protein\"], \n",
    "    neighbor_size=neighbor_size,\n",
    "    embedding_dims=embedding_dims,\n",
    "    fusing_iteration=fusing_iteration,\n",
    "    normalization_factor=normalization_factor,\n",
    "    alighment_epochs=alighment_epochs,\n",
    "    beta=beta,\n",
    "    mu=mu,\n",
    ")\n",
    "# data indexing\n",
    "fused_networks = predictor.network_diffusion()"
   ]
  },
  {
   "cell_type": "code",
   "execution_count": 9,
   "metadata": {},
   "outputs": [
    {
     "name": "stdout",
     "output_type": "stream",
     "text": [
      "Loaded pre-trained model with success.\n",
      "IntegrAO for clustering union 500 samples NMI score:  1.0000000000000002\n"
     ]
    }
   ],
   "source": [
    "# load model and inference for obtaining the patient embeddings\n",
    "model_path = os.path.join(result_dir, \"model_integrao_unsupervised.pth\")\n",
    "final_embedding_df, S_final = predictor.inference_unsupervised(model_path, new_datasets=[methyl, expr, protein], modalities_names=[\"methyl\", \"expr\", \"protein\"])\n",
    "\n",
    "labels = spectral_clustering(S_final, n_clusters=cluster_number)\n",
    "\n",
    "true_labels = truelabel.sort_values('subjects')['cluster.id'].tolist()\n",
    "\n",
    "score_all = v_measure_score(true_labels, labels)\n",
    "print(\"IntegrAO for clustering union 500 samples NMI score: \", score_all)"
   ]
  },
  {
   "cell_type": "markdown",
   "metadata": {},
   "source": [
    "## Now extract the feature importance for the unsurvised integration; the extracted feature importance will be saved in the result dir"
   ]
  },
  {
   "cell_type": "code",
   "execution_count": null,
   "metadata": {},
   "outputs": [],
   "source": [
    "df_list = predictor.interpret_unsupervised(model_path=model_path, result_dir=result_dir, new_datasets=[methyl, expr, protein], modalities_names=[\"methyl\", \"expr\", \"protein\"])"
   ]
  }
 ],
 "metadata": {
  "kernelspec": {
   "display_name": "integrAO",
   "language": "python",
   "name": "python3"
  },
  "language_info": {
   "codemirror_mode": {
    "name": "ipython",
    "version": 3
   },
   "file_extension": ".py",
   "mimetype": "text/x-python",
   "name": "python",
   "nbconvert_exporter": "python",
   "pygments_lexer": "ipython3",
   "version": "3.10.16"
  }
 },
 "nbformat": 4,
 "nbformat_minor": 2
}
